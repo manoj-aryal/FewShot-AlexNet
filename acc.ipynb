{
 "cells": [
  {
   "cell_type": "code",
   "execution_count": 1,
   "metadata": {},
   "outputs": [],
   "source": [
    "import numpy as np\n",
    "from sklearn.metrics.pairwise import cosine_similarity"
   ]
  },
  {
   "cell_type": "code",
   "execution_count": 2,
   "metadata": {},
   "outputs": [],
   "source": [
    "val = np.load(\"array_val.npy\")\n",
    "\n",
    "t50 = np.load(\"array_train50.npy\")\n",
    "t20 = np.load(\"array_train20.npy\")\n",
    "t5 = np.load(\"array_train5.npy\")\n",
    "t1 = np.load(\"array_train1.npy\")"
   ]
  },
  {
   "cell_type": "code",
   "execution_count": 3,
   "metadata": {},
   "outputs": [],
   "source": [
    "def acc(t):\n",
    "    s = []\n",
    "    for i in val:\n",
    "        x = i.reshape(1, -1)\n",
    "        res = cosine_similarity(x, t)\n",
    "        s.append(np.argmax(res))\n",
    "    s = np.array(s)\n",
    "    return s"
   ]
  },
  {
   "cell_type": "code",
   "execution_count": 4,
   "metadata": {},
   "outputs": [],
   "source": [
    "s1 = [acc(t1)]\n",
    "s5 = [acc(t5)]\n",
    "s20 = [acc(t20)]\n",
    "s50 = [acc(t50)]"
   ]
  },
  {
   "cell_type": "code",
   "execution_count": 7,
   "metadata": {},
   "outputs": [
    {
     "name": "stdout",
     "output_type": "stream",
     "text": [
      "0.015\n",
      "0.013\n",
      "0.022\n",
      "0.016\n"
     ]
    }
   ],
   "source": [
    "t = []\n",
    "for i in range(50):    \n",
    "    t.extend([i for _ in range(20)])\n",
    "t = np.array(t)\n",
    "\n",
    "\n",
    "print((s1 == t).mean())\n",
    "print((s5 == t).mean())\n",
    "print((s20 == t).mean())\n",
    "print((s50 == t).mean())"
   ]
  }
 ],
 "metadata": {
  "kernelspec": {
   "display_name": "Python 3",
   "language": "python",
   "name": "python3"
  },
  "language_info": {
   "codemirror_mode": {
    "name": "ipython",
    "version": 3
   },
   "file_extension": ".py",
   "mimetype": "text/x-python",
   "name": "python",
   "nbconvert_exporter": "python",
   "pygments_lexer": "ipython3",
   "version": "3.6.9"
  }
 },
 "nbformat": 4,
 "nbformat_minor": 2
}
